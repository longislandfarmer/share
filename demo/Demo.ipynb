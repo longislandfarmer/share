{
 "cells": [
  {
   "cell_type": "code",
   "execution_count": null,
   "metadata": {},
   "outputs": [],
   "source": [
    "import numpy as np\n",
    "import pandas as pd\n",
    "import pyarrow as pa\n",
    "import matplotlib as plt"
   ]
  },
  {
   "cell_type": "code",
   "execution_count": null,
   "metadata": {},
   "outputs": [],
   "source": [
    "df = pd.read_parquet('data_adjclose.pq')"
   ]
  },
  {
   "cell_type": "code",
   "execution_count": null,
   "metadata": {},
   "outputs": [],
   "source": [
    "df"
   ]
  },
  {
   "cell_type": "code",
   "execution_count": null,
   "metadata": {},
   "outputs": [],
   "source": [
    "df.shift(1)"
   ]
  },
  {
   "cell_type": "code",
   "execution_count": null,
   "metadata": {
    "scrolled": true
   },
   "outputs": [],
   "source": [
    "diff = (df - df.shift(1)) / df.shift(1)  # (today - yesterday) / yesterday => 0.1\n",
    "diff"
   ]
  },
  {
   "cell_type": "code",
   "execution_count": null,
   "metadata": {},
   "outputs": [],
   "source": [
    "def compute_diff(df, shift):\n",
    "    shifted = df.shift(shift)\n",
    "    if shift > 0:\n",
    "        return (df - shifted)/shifted  # (today - x_days_ago) / x_days_ago\n",
    "    return (shifted - df)/df  # (x_days_later - today) / today"
   ]
  },
  {
   "cell_type": "markdown",
   "metadata": {},
   "source": [
    "Simple Linear Regression:\n",
    "$$\n",
    "y = ax\\\\\n",
    "y = \\frac{price_{tomorrow} - price_{today}}{price_{today} }\\\\\n",
    "x = \\frac{price_{today} - price_{yesterday}}{price_{yesterday}}\\\\\n",
    "\\hat{y} = ax\n",
    "$$\n"
   ]
  },
  {
   "cell_type": "code",
   "execution_count": null,
   "metadata": {},
   "outputs": [],
   "source": [
    "x = compute_diff(df, 1).fillna(0).values.flatten()[:, np.newaxis]\n",
    "y = compute_diff(df, -1).fillna(0).values.flatten()\n",
    "NAssets = df.shape[1]\n",
    "NDates = df.shape[0]"
   ]
  },
  {
   "cell_type": "code",
   "execution_count": null,
   "metadata": {},
   "outputs": [],
   "source": [
    "a = np.linalg.lstsq(x, y, rcond=None)\n",
    "my_y = x.dot(a[0]) # computing forecast"
   ]
  },
  {
   "cell_type": "code",
   "execution_count": null,
   "metadata": {},
   "outputs": [],
   "source": [
    "profit, loss = np.sum((my_y * y) > 0), np.sum((my_y * y) < 0)\n",
    "print(\"percentage right:\", profit / (profit + loss))"
   ]
  },
  {
   "cell_type": "code",
   "execution_count": null,
   "metadata": {},
   "outputs": [],
   "source": [
    "trade = my_y * 1000000\n",
    "\n",
    "print(\"average daily pnl:\", (trade * y).reshape(-1, NAssets).sum(axis=1).mean() )\n",
    "print(\"average daily trade:\", abs(trade).reshape(-1, NAssets).sum(axis=1).mean() )"
   ]
  },
  {
   "cell_type": "code",
   "execution_count": null,
   "metadata": {},
   "outputs": [],
   "source": [
    "daily_profit0 = pd.Series((trade * y).reshape(-1, NAssets).sum(axis=1))\n",
    "daily_profit0.plot()\n",
    "daily_profit0.cumsum().plot()"
   ]
  },
  {
   "cell_type": "markdown",
   "metadata": {},
   "source": [
    "$$\n",
    "y = ax + b\n",
    "$$\n",
    "Is the same as\n",
    "$$\n",
    "y = a_1x_1 + a_2x_2\\\\\n",
    "x2 = 1\n",
    "$$"
   ]
  },
  {
   "cell_type": "code",
   "execution_count": null,
   "metadata": {},
   "outputs": [],
   "source": [
    "x1 = compute_diff(df, 1).fillna(0).values.flatten()\n",
    "x2 = np.ones(x1.shape)\n",
    "x = np.concatenate([x1[:, None], x2[:, None]], axis=1)\n",
    "y = compute_diff(df, -1).fillna(0).values.flatten()"
   ]
  },
  {
   "cell_type": "code",
   "execution_count": null,
   "metadata": {},
   "outputs": [],
   "source": [
    "a = np.linalg.lstsq(x, y, rcond=None)\n",
    "my_y = x.dot(a[0])\n",
    "\n",
    "profit, loss = np.sum((my_y * y) > 0), np.sum((my_y * y) < 0)\n",
    "print(\"percentage right:\", profit / (profit + loss))\n",
    "\n",
    "trade = my_y * 1000000\n",
    "\n",
    "print(\"average daily pnl:\", (trade * y).reshape(-1, NAssets).sum(axis=1).mean() )\n",
    "print(\"average daily trade:\", abs(trade).reshape(-1, NAssets).sum(axis=1).mean() )\n"
   ]
  },
  {
   "cell_type": "code",
   "execution_count": null,
   "metadata": {},
   "outputs": [],
   "source": [
    "daily_profit1 = pd.Series((trade * y).reshape(-1, NAssets).sum(axis=1))\n",
    "#daily_profit1.plot()\n",
    "daily_profit0.cumsum().plot()\n",
    "daily_profit1.cumsum().plot()"
   ]
  },
  {
   "cell_type": "code",
   "execution_count": null,
   "metadata": {},
   "outputs": [],
   "source": [
    "xlist = [compute_diff(df, i).fillna(0).values.flatten() for i in range(10)]\n",
    "xlist += [ np.ones(x1.shape) ]\n",
    "x = np.concatenate([xx[:, None] for xx in xlist], axis=1)\n",
    "y = compute_diff(df, -1).fillna(0).values.flatten()"
   ]
  },
  {
   "cell_type": "code",
   "execution_count": null,
   "metadata": {},
   "outputs": [],
   "source": [
    "a = np.linalg.lstsq(x, y, rcond=None)\n",
    "my_y = x.dot(a[0])\n",
    "\n",
    "profit, loss = np.sum((my_y * y) > 0), np.sum((my_y * y) < 0)\n",
    "print(\"percentage right:\", profit / (profit + loss))\n",
    "\n",
    "trade = my_y * 1000000\n",
    "\n",
    "print(\"average daily pnl:\", (trade * y).reshape(-1, NAssets).sum(axis=1).mean() )\n",
    "print(\"average daily trade:\", abs(trade).reshape(-1, NAssets).sum(axis=1).mean() )\n",
    "print(\"average daily net trade:\", trade.reshape(-1, NAssets).sum(axis=1).mean() )"
   ]
  },
  {
   "cell_type": "code",
   "execution_count": null,
   "metadata": {},
   "outputs": [],
   "source": [
    "xlist = [compute_diff(df, i).fillna(0).values.flatten() for i in range(100)]\n",
    "xlist += [ np.ones(x1.shape) ]\n",
    "x = np.concatenate([xx[:, None] for xx in xlist], axis=1)\n",
    "y = compute_diff(df, -1).fillna(0).values.flatten()"
   ]
  },
  {
   "cell_type": "code",
   "execution_count": null,
   "metadata": {},
   "outputs": [],
   "source": [
    "a = np.linalg.lstsq(x, y, rcond=None)\n",
    "my_y = x.dot(a[0])\n",
    "\n",
    "profit, loss = np.sum((my_y * y) > 0), np.sum((my_y * y) < 0)\n",
    "print(\"percentage right:\", profit / (profit + loss))\n",
    "\n",
    "trade = my_y * 100000000\n",
    "\n",
    "print(\"average daily pnl:\", (trade * y).reshape(-1, NAssets).sum(axis=1).mean() )\n",
    "print(\"average daily trade:\", abs(trade).reshape(-1, NAssets).sum(axis=1).mean() )\n",
    "print(\"average daily net trade:\", trade.reshape(-1, NAssets).sum(axis=1).mean() )"
   ]
  },
  {
   "cell_type": "code",
   "execution_count": null,
   "metadata": {},
   "outputs": [],
   "source": [
    "daily_profit2 = pd.Series((trade * y).reshape(-1, NAssets).sum(axis=1))"
   ]
  },
  {
   "cell_type": "code",
   "execution_count": null,
   "metadata": {},
   "outputs": [],
   "source": [
    "daily_profit0.cumsum().plot()\n",
    "daily_profit1.cumsum().plot()\n",
    "daily_profit2.cumsum().plot()"
   ]
  },
  {
   "cell_type": "code",
   "execution_count": null,
   "metadata": {},
   "outputs": [],
   "source": []
  }
 ],
 "metadata": {
  "kernelspec": {
   "display_name": "Python 3",
   "language": "python",
   "name": "python3"
  },
  "language_info": {
   "codemirror_mode": {
    "name": "ipython",
    "version": 3
   },
   "file_extension": ".py",
   "mimetype": "text/x-python",
   "name": "python",
   "nbconvert_exporter": "python",
   "pygments_lexer": "ipython3",
   "version": "3.6.9"
  }
 },
 "nbformat": 4,
 "nbformat_minor": 4
}
